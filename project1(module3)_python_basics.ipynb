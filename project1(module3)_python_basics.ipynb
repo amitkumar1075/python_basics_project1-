{
 "cells": [
  {
   "cell_type": "markdown",
   "id": "0be69189-250d-456e-ade1-7accd3216293",
   "metadata": {},
   "source": [
    "# **python basics theory questions**"
   ]
  },
  {
   "cell_type": "code",
   "execution_count": 2,
   "id": "0c2c51bf-ee64-4bd6-b995-36305838f121",
   "metadata": {},
   "outputs": [],
   "source": [
    "# 1.What is Python, and why is it popular ?\n",
    "\n",
    "#ans>> python is general programming language known for its simplicity , easy to access , and verslitiy\n",
    "# popular because of :\n",
    "# easy to read the syntax\n",
    "# wide libraries i.e numpy,pandas etc\n",
    "# strong community support\n",
    "# versatie becaues use in web devlopement , data science etc"
   ]
  },
  {
   "cell_type": "code",
   "execution_count": null,
   "id": "518935bc-658d-4c8a-9315-6ad553a28567",
   "metadata": {},
   "outputs": [],
   "source": [
    "#2. What is an interpreter in Python?\n",
    "\n",
    "#ans.>>An interpreter in Python is a program that executes Python code line-by-line, converting it into machine-readable code."
   ]
  },
  {
   "cell_type": "code",
   "execution_count": null,
   "id": "08f71363-70b9-4b06-a3c0-7db0dccae549",
   "metadata": {},
   "outputs": [],
   "source": [
    "#3. What are pre-defined keywords in Python?\n",
    "\n",
    "#ans.>> Pre-defined keywords are per-defined words that have special identity/meaning and functions in Python.\n",
    "# example >> print(),if,ifelse,while,type etc"
   ]
  },
  {
   "cell_type": "code",
   "execution_count": null,
   "id": "b637cc57-eec6-4c2c-bc00-b3d1f3afdc52",
   "metadata": {},
   "outputs": [],
   "source": [
    "#4. Can keywords be used as variable names?\n",
    "\n",
    "#ans.>> no , keyword can not use as name because it has reserved by python for secifice function"
   ]
  },
  {
   "cell_type": "code",
   "execution_count": null,
   "id": "8467a19c-3641-42de-8a1c-040e212cce50",
   "metadata": {},
   "outputs": [],
   "source": [
    "#5. What is mutability in Python?\n",
    "\n",
    "#ans.>> mutability :- possible to change (.i.e list,dictionary ,sets)\n",
    "#      immutability :- not possible to change (.i.e tuples , string , integers)"
   ]
  },
  {
   "cell_type": "code",
   "execution_count": 15,
   "id": "2eb3aba2-5275-4de3-a1cd-42c23553e7f7",
   "metadata": {},
   "outputs": [],
   "source": [
    "#6. Why are lists mutable, but tuples are immutable?\n",
    "\n",
    "#ans.>> list:- list fuction are made with which is flexible with data modification >> which make it mutable \n",
    "#      tuples:- tuple function are made for the data protection and optimization in proformance >> which make it immutable"
   ]
  },
  {
   "cell_type": "code",
   "execution_count": null,
   "id": "b8274ba5-2f6a-4e05-9f52-e437c278c6bc",
   "metadata": {},
   "outputs": [],
   "source": [
    "#7. What is the difference between == and is operators in Python?\n",
    "\n",
    "#ans.>> == :- this refers to two variables are equal or same value\n",
    "#       is :- is operator refers to two variable in same memory"
   ]
  },
  {
   "cell_type": "code",
   "execution_count": 17,
   "id": "5af6f774-701b-4be9-9772-b6379364fd66",
   "metadata": {},
   "outputs": [],
   "source": [
    "# 8. What are logical operators in Python?\n",
    "\n",
    "#ans.>> logical operators are use to conbine conditional statement\n",
    "#    1. and :- gives true if both of conditions are true\n",
    "#    2. or :- gives true if any of conditions are true\n",
    "#    3. not :- gives true if statement are false"
   ]
  },
  {
   "cell_type": "code",
   "execution_count": null,
   "id": "ba37ab1a-e8a0-45c8-81d3-bb3a7b2b9b70",
   "metadata": {},
   "outputs": [],
   "source": [
    "#9. What is type casting in Python?\n",
    "\n",
    "#ans.>> type casting is a proccess in which we change the data type \n",
    "# example :- s= \"123\" >> this is strig \n",
    "#            i = int(s) >> now this is integer"
   ]
  },
  {
   "cell_type": "code",
   "execution_count": 19,
   "id": "df84265c-00f3-4a31-a742-8ad5d6aaf75b",
   "metadata": {},
   "outputs": [],
   "source": [
    "#10. What is the difference between implicit and explicit type casting?\n",
    "\n",
    "#ans.>> implicit type casting :- in which data type change automatically \n",
    "#                   example :-  a=5(integer) , b=3.4(float no.)\n",
    "#                     adding a and b :- c = a+b >> c=8.4 >> now it will automatically change to float from integer\n",
    "\n",
    "#       explicit :- explicit type casting is a proccess in which we change the data type manually\n",
    "# example :- s= \"123\" >> this is strig \n",
    "#            i = int(s) >> now this is integer >> we change the data type by using int() "
   ]
  },
  {
   "cell_type": "code",
   "execution_count": 21,
   "id": "77f6818f-0936-4fea-9079-69cbad706534",
   "metadata": {},
   "outputs": [],
   "source": [
    "#11. What is the purpose of conditional statements in Python?\n",
    "\n",
    "#ans.>> condition statement are useful when we have to many statement and execute only some conditons so it will control the statement folw\n",
    "#       examples :- if , else , elif "
   ]
  },
  {
   "cell_type": "code",
   "execution_count": 23,
   "id": "88591968-d90d-4625-9adc-dd2c2a72832f",
   "metadata": {},
   "outputs": [
    {
     "name": "stdout",
     "output_type": "stream",
     "text": [
      "this is valid statement but inside elif condition\n"
     ]
    }
   ],
   "source": [
    "#12. How does the elif statement work?\n",
    "\n",
    "#ans.>> elif condition is able to check many conditions which is given at a time one by one \n",
    "#example\n",
    "a=28\n",
    "b=100\n",
    "if a ==28 and b < 100:\n",
    "    print(\"this is a valid statement\")\n",
    "elif a == 28 and b ==100:\n",
    "    print(\"this is valid statement but inside elif condition\")\n",
    "else :\n",
    "    print(\"in this data set there is no valid statement\")"
   ]
  },
  {
   "cell_type": "code",
   "execution_count": 31,
   "id": "275b217e-c546-47f4-9157-f767392bfa8e",
   "metadata": {},
   "outputs": [
    {
     "name": "stdout",
     "output_type": "stream",
     "text": [
      "i = 0\n",
      "i = 1\n",
      "i = 2\n",
      "x = 0\n",
      "x = 1\n",
      "x = 2\n",
      "x = 3\n",
      "x = 4\n"
     ]
    }
   ],
   "source": [
    "#3. What is the difference between for and while loops?\n",
    "\n",
    "#ans.>> for loop :- for loop used for iterating over a sqeuence (.i.e string,list etc)\n",
    "#example\n",
    "for i in range(3):\n",
    "    print(\"i =\",i)\n",
    "#     while loop :- while loop is used to repeat the block of code until it will true\n",
    "#example\n",
    "x = 0\n",
    "while x < 5:\n",
    "    print(\"x =\",x)\n",
    "    x += 1"
   ]
  },
  {
   "cell_type": "code",
   "execution_count": 3,
   "id": "a6b7f42a-ab7d-47b4-a9ab-c84094fbe9fd",
   "metadata": {},
   "outputs": [
    {
     "name": "stdout",
     "output_type": "stream",
     "text": [
      "0\n",
      "2\n",
      "4\n",
      "6\n",
      "8\n"
     ]
    }
   ],
   "source": [
    "#14. Describe a scenario where a while loop is more suitable than a for loop.\n",
    "\n",
    "#ans.>> A while loop is more suitable when the number of iterations is unknown or depends on a condition.\n",
    "#example\n",
    "initial_speed = 0\n",
    "final_speed = 10\n",
    "while initial_speed<final_speed:\n",
    "    print(initial_speed)\n",
    "    initial_speed=initial_speed+2"
   ]
  },
  {
   "cell_type": "markdown",
   "id": "cf0665a8-ce8a-4b1b-8c7b-be6032488597",
   "metadata": {},
   "source": [
    "**practical questions**"
   ]
  },
  {
   "cell_type": "code",
   "execution_count": 6,
   "id": "4cb71f90-316f-4e08-9ef1-8f078c4bf8ef",
   "metadata": {},
   "outputs": [
    {
     "name": "stdout",
     "output_type": "stream",
     "text": [
      "hello , world\n"
     ]
    }
   ],
   "source": [
    "#1.Write a Python program to print \"Hello, World!\n",
    "print(\"hello , world\")"
   ]
  },
  {
   "cell_type": "code",
   "execution_count": 20,
   "id": "210f5753-e87b-45a8-8ec4-8634b27f8b06",
   "metadata": {},
   "outputs": [
    {
     "name": "stdout",
     "output_type": "stream",
     "text": [
      "name = amit age = 25\n"
     ]
    }
   ],
   "source": [
    "#2. Write a Python program that displays your name and age.\n",
    "name=\"amit\"\n",
    "age=25\n",
    "print(\"name =\" ,name,\"age =\" ,age)"
   ]
  },
  {
   "cell_type": "code",
   "execution_count": 22,
   "id": "d76962ec-8d88-4f6f-8ac7-200a67902a61",
   "metadata": {},
   "outputs": [
    {
     "name": "stdout",
     "output_type": "stream",
     "text": [
      "['False', 'None', 'True', 'and', 'as', 'assert', 'async', 'await', 'break', 'class', 'continue', 'def', 'del', 'elif', 'else', 'except', 'finally', 'for', 'from', 'global', 'if', 'import', 'in', 'is', 'lambda', 'nonlocal', 'not', 'or', 'pass', 'raise', 'return', 'try', 'while', 'with', 'yield']\n"
     ]
    }
   ],
   "source": [
    "#3.Write code to print all the pre-defined keywords in Python using the keyword library\n",
    "import keyword\n",
    "print(keyword.kwlist)"
   ]
  },
  {
   "cell_type": "code",
   "execution_count": 26,
   "id": "b5940205-6856-4286-bf23-c9efd12cc7c2",
   "metadata": {},
   "outputs": [
    {
     "name": "stdin",
     "output_type": "stream",
     "text": [
      "enter a word print\n"
     ]
    },
    {
     "name": "stdout",
     "output_type": "stream",
     "text": [
      "word is not a keyword\n"
     ]
    }
   ],
   "source": [
    "#4. Write a program that checks if a given word is a Python keyword\n",
    "word = input(\"enter a word\")\n",
    "if word in keyword.kwlist:\n",
    "    print(\"word is a keyword\")\n",
    "else :\n",
    "    print(\"word is not a keyword\")"
   ]
  },
  {
   "cell_type": "code",
   "execution_count": 50,
   "id": "9698bc3e-8298-44a9-b98c-1fea35d24949",
   "metadata": {},
   "outputs": [
    {
     "name": "stdout",
     "output_type": "stream",
     "text": [
      "l = [1, 2, 'ajay', 'amit', 'pwskills', (3+10j)]\n"
     ]
    }
   ],
   "source": [
    "#5. Create a list and tuple in Python, and demonstrate how attempting to change an element works differently for each\n",
    "l=[1,2,3.4,\"amit\",\"pwskills\",3+10j]\n",
    "t=(5,6.7,8,\"ajit\",\"pintu\")\n",
    "\n",
    "#list are mutable\n",
    "l[2] = \"ajay\"\n",
    "print(\"l =\",l)"
   ]
  },
  {
   "cell_type": "code",
   "execution_count": 54,
   "id": "969aba33-6b07-42a1-8c7b-54d08c92e2c0",
   "metadata": {},
   "outputs": [
    {
     "ename": "TypeError",
     "evalue": "'tuple' object does not support item assignment",
     "output_type": "error",
     "traceback": [
      "\u001b[1;31m---------------------------------------------------------------------------\u001b[0m",
      "\u001b[1;31mTypeError\u001b[0m                                 Traceback (most recent call last)",
      "Cell \u001b[1;32mIn[54], line 2\u001b[0m\n\u001b[0;32m      1\u001b[0m \u001b[38;5;66;03m# tuples are immutable >> so it will gives you an error\u001b[39;00m\n\u001b[1;32m----> 2\u001b[0m t[\u001b[38;5;241m2\u001b[39m]\u001b[38;5;241m=\u001b[39m\u001b[38;5;241m5\u001b[39m\n",
      "\u001b[1;31mTypeError\u001b[0m: 'tuple' object does not support item assignment"
     ]
    }
   ],
   "source": [
    "# tuples are immutable >> so it will gives you an error\n",
    "t[2]=5"
   ]
  },
  {
   "cell_type": "code",
   "execution_count": 41,
   "id": "e7f453ac-1674-4102-8364-b2cdfbb60545",
   "metadata": {},
   "outputs": [
    {
     "name": "stdout",
     "output_type": "stream",
     "text": [
      "l = [1, 2, 'ajay', 'amit', 'pwskills', (3+10j)]\n"
     ]
    },
    {
     "ename": "TypeError",
     "evalue": "'tuple' object does not support item assignment",
     "output_type": "error",
     "traceback": [
      "\u001b[1;31m---------------------------------------------------------------------------\u001b[0m",
      "\u001b[1;31mTypeError\u001b[0m                                 Traceback (most recent call last)",
      "Cell \u001b[1;32mIn[41], line 10\u001b[0m\n\u001b[0;32m      7\u001b[0m \u001b[38;5;28mprint\u001b[39m(\u001b[38;5;124m\"\u001b[39m\u001b[38;5;124ml =\u001b[39m\u001b[38;5;124m\"\u001b[39m,l)\n\u001b[0;32m      9\u001b[0m \u001b[38;5;66;03m# tuples are immutable >> so it will gives you an error\u001b[39;00m\n\u001b[1;32m---> 10\u001b[0m t[\u001b[38;5;241m2\u001b[39m]\u001b[38;5;241m=\u001b[39m\u001b[38;5;241m5\u001b[39m\n",
      "\u001b[1;31mTypeError\u001b[0m: 'tuple' object does not support item assignment"
     ]
    }
   ],
   "source": [
    "#6. Write a function to demonstrate the behavior of mutable and immutable arguments\n",
    "\n",
    "#ans.>>#list are mutable\n",
    "l=[1,2,3.4,\"amit\",\"pwskills\",3+10j]\n",
    "t=(5,6.7,8,\"ajit\",\"pintu\")\n",
    "l[2] = \"ajay\"\n",
    "print(\"l =\",l)\n",
    "\n",
    "# tuples are immutable >> so it will gives you an error\n",
    "t[2]=5"
   ]
  },
  {
   "cell_type": "code",
   "execution_count": 43,
   "id": "f441ae89-deec-43d7-8377-e724e1480ca8",
   "metadata": {},
   "outputs": [],
   "source": [
    "#7.Write a function to demonstrate the behavior of mutable and immutable arguments\n",
    "\n",
    "#ans.>> same as a question no. 6"
   ]
  },
  {
   "cell_type": "code",
   "execution_count": 106,
   "id": "30d64707-d9a3-41eb-9404-48e5240b7d1e",
   "metadata": {},
   "outputs": [
    {
     "data": {
      "text/plain": [
       "True"
      ]
     },
     "execution_count": 106,
     "metadata": {},
     "output_type": "execute_result"
    }
   ],
   "source": [
    "#8.Write a program to demonstrate the use of logical operators\n",
    "a=5\n",
    "b=10\n",
    "\n",
    "#1st\n",
    "a<8 and b<12"
   ]
  },
  {
   "cell_type": "code",
   "execution_count": 112,
   "id": "82b0d410-f5de-4dfa-b53a-5282d7ca3a4d",
   "metadata": {},
   "outputs": [
    {
     "data": {
      "text/plain": [
       "False"
      ]
     },
     "execution_count": 112,
     "metadata": {},
     "output_type": "execute_result"
    }
   ],
   "source": [
    "a>10 or b<5"
   ]
  },
  {
   "cell_type": "code",
   "execution_count": 114,
   "id": "79a03265-bbdf-4054-a7a1-ad7ae3394ae3",
   "metadata": {},
   "outputs": [
    {
     "data": {
      "text/plain": [
       "True"
      ]
     },
     "execution_count": 114,
     "metadata": {},
     "output_type": "execute_result"
    }
   ],
   "source": [
    "not a==4"
   ]
  },
  {
   "cell_type": "code",
   "execution_count": 41,
   "id": "4eb1e962-2b30-4dfb-8d47-486beeaf8035",
   "metadata": {},
   "outputs": [
    {
     "name": "stdin",
     "output_type": "stream",
     "text": [
      "Enter a value:  12\n"
     ]
    },
    {
     "name": "stdout",
     "output_type": "stream",
     "text": [
      "Integer: 12\n",
      "Float: 12.0\n",
      "Boolean: True\n"
     ]
    }
   ],
   "source": [
    "#9. Write a Python program to convert user input from string to integer, float, and boolean types\n",
    "user_input = input(\"Enter a value: \")\n",
    "\n",
    "int_value = int(user_input)\n",
    "float_value = float(user_input)\n",
    "bool_value = bool(user_input)\n",
    "\n",
    "print(\"Integer:\", int_value)\n",
    "print(\"Float:\", float_value)\n",
    "print(\"Boolean:\", bool_value)\n"
   ]
  },
  {
   "cell_type": "code",
   "execution_count": 37,
   "id": "78d3aec1-ed34-46bd-a908-1c1d7f1ff486",
   "metadata": {},
   "outputs": [
    {
     "name": "stdout",
     "output_type": "stream",
     "text": [
      "[1, 2, 3, 34]\n"
     ]
    }
   ],
   "source": [
    "#10. Write code to demonstrate type casting with list elements\n",
    "list1 = [\"1\",\"2\",\"3\",\"34\"]\n",
    "list2=[]\n",
    "for i in list1:\n",
    "    intg = int(i)\n",
    "    list2.append(intg)\n",
    "print(list2)\n",
    "    "
   ]
  },
  {
   "cell_type": "code",
   "execution_count": 3,
   "id": "39829a7d-f358-4ea2-baff-d3e9cb5a443e",
   "metadata": {},
   "outputs": [
    {
     "name": "stdin",
     "output_type": "stream",
     "text": [
      "enter a number 0\n"
     ]
    },
    {
     "name": "stdout",
     "output_type": "stream",
     "text": [
      "number is zero\n"
     ]
    }
   ],
   "source": [
    "#11. Write a program that checks if a number is positive, negative, or zero\n",
    "num = int(input(\"enter a number\"))\n",
    "if num >0 :\n",
    "    print(\"number is positive\")\n",
    "if num == 0:\n",
    "    print(\"number is zero\")\n",
    "if num <0:\n",
    "    print(\"number is negative\")\n",
    "    "
   ]
  },
  {
   "cell_type": "code",
   "execution_count": 221,
   "id": "79a488e2-e89f-4f5e-9a49-fa9f6ef792d2",
   "metadata": {},
   "outputs": [
    {
     "name": "stdout",
     "output_type": "stream",
     "text": [
      "0\n",
      "1\n",
      "2\n",
      "3\n",
      "4\n",
      "5\n",
      "6\n",
      "7\n",
      "8\n",
      "9\n"
     ]
    }
   ],
   "source": [
    "#12. Write a for loop to print numbers from 1 to 10\n",
    "for i in range(0,10):\n",
    "    print(i)"
   ]
  },
  {
   "cell_type": "code",
   "execution_count": 33,
   "id": "93b447f2-8421-4def-9155-a57bd73ac3ab",
   "metadata": {},
   "outputs": [
    {
     "name": "stdout",
     "output_type": "stream",
     "text": [
      "600\n"
     ]
    }
   ],
   "source": [
    "#13. Write a Python program to find the sum of all even numbers between 1 and 50\n",
    "sum_even = 0\n",
    "for i in range(50):\n",
    "    if i%2==0:\n",
    "        sum_even=(sum_even+i)\n",
    "print(sum_even)\n",
    "\n",
    "    "
   ]
  },
  {
   "cell_type": "code",
   "execution_count": 3,
   "id": "f8d7af62-fc92-4e2d-b1a2-0df134fa975c",
   "metadata": {},
   "outputs": [
    {
     "name": "stdout",
     "output_type": "stream",
     "text": [
      "revrse_string : tima\n"
     ]
    }
   ],
   "source": [
    "#14. Write a program to reverse a string using a while loop\n",
    "\n",
    "#ans.>> \n",
    "s= \"amit\"\n",
    "rs=\"\"\n",
    "index=len(s)-1\n",
    "while index>= 0:\n",
    "    rs+=s[index]\n",
    "    index -=1\n",
    "print(\"revrse_string :\",rs)"
   ]
  },
  {
   "cell_type": "code",
   "execution_count": 39,
   "id": "15878ae8-0d56-4e61-8d2a-c8ff17f3cacd",
   "metadata": {},
   "outputs": [
    {
     "name": "stdin",
     "output_type": "stream",
     "text": [
      "enter a number 5\n"
     ]
    },
    {
     "name": "stdout",
     "output_type": "stream",
     "text": [
      "factorial of 5 is 120\n"
     ]
    }
   ],
   "source": [
    "#15. Write a Python program to calculate the factorial of a number provided by the user using a while loop.\n",
    "\n",
    "#ans.>> \n",
    "integer = int(input(\"enter a number\"))\n",
    "i = 1\n",
    "factorial =1\n",
    "\n",
    "while i<=integer:\n",
    "    factorial = (i*factorial)\n",
    "    i=i+1\n",
    "print(\"factorial of\" ,integer,\"is\", factorial)\n",
    "    \n"
   ]
  },
  {
   "cell_type": "code",
   "execution_count": null,
   "id": "391724af-5bb1-4fb5-a96d-64134cf23447",
   "metadata": {},
   "outputs": [],
   "source": []
  }
 ],
 "metadata": {
  "kernelspec": {
   "display_name": "Python [conda env:base] *",
   "language": "python",
   "name": "conda-base-py"
  },
  "language_info": {
   "codemirror_mode": {
    "name": "ipython",
    "version": 3
   },
   "file_extension": ".py",
   "mimetype": "text/x-python",
   "name": "python",
   "nbconvert_exporter": "python",
   "pygments_lexer": "ipython3",
   "version": "3.12.7"
  }
 },
 "nbformat": 4,
 "nbformat_minor": 5
}
